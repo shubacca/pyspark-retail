{
  "nbformat": 4,
  "nbformat_minor": 0,
  "metadata": {
    "colab": {
      "provenance": [],
      "authorship_tag": "ABX9TyOicn60Ihlj1LaEJtF/ODNP",
      "include_colab_link": true
    },
    "kernelspec": {
      "name": "python3",
      "display_name": "Python 3"
    },
    "language_info": {
      "name": "python"
    }
  },
  "cells": [
    {
      "cell_type": "markdown",
      "metadata": {
        "id": "view-in-github",
        "colab_type": "text"
      },
      "source": [
        "<a href=\"https://colab.research.google.com/github/shubacca/pyspark-retail/blob/main/retail_exploration.ipynb\" target=\"_parent\"><img src=\"https://colab.research.google.com/assets/colab-badge.svg\" alt=\"Open In Colab\"/></a>"
      ]
    },
    {
      "cell_type": "code",
      "source": [
        "# Install necessary packages\n",
        "!pip install faker pyspark"
      ],
      "metadata": {
        "colab": {
          "base_uri": "https://localhost:8080/"
        },
        "id": "i6X373cfssk4",
        "outputId": "d42d5f1c-d871-4303-f38c-4d43de29aa6f"
      },
      "execution_count": 2,
      "outputs": [
        {
          "output_type": "stream",
          "name": "stdout",
          "text": [
            "Collecting faker\n",
            "  Downloading Faker-26.2.0-py3-none-any.whl.metadata (15 kB)\n",
            "Collecting pyspark\n",
            "  Downloading pyspark-3.5.1.tar.gz (317.0 MB)\n",
            "\u001b[2K     \u001b[90m━━━━━━━━━━━━━━━━━━━━━━━━━━━━━━━━━━━━━━━━\u001b[0m \u001b[32m317.0/317.0 MB\u001b[0m \u001b[31m4.0 MB/s\u001b[0m eta \u001b[36m0:00:00\u001b[0m\n",
            "\u001b[?25h  Preparing metadata (setup.py) ... \u001b[?25l\u001b[?25hdone\n",
            "Requirement already satisfied: python-dateutil>=2.4 in /usr/local/lib/python3.10/dist-packages (from faker) (2.8.2)\n",
            "Requirement already satisfied: py4j==0.10.9.7 in /usr/local/lib/python3.10/dist-packages (from pyspark) (0.10.9.7)\n",
            "Requirement already satisfied: six>=1.5 in /usr/local/lib/python3.10/dist-packages (from python-dateutil>=2.4->faker) (1.16.0)\n",
            "Downloading Faker-26.2.0-py3-none-any.whl (1.8 MB)\n",
            "\u001b[2K   \u001b[90m━━━━━━━━━━━━━━━━━━━━━━━━━━━━━━━━━━━━━━━━\u001b[0m \u001b[32m1.8/1.8 MB\u001b[0m \u001b[31m12.9 MB/s\u001b[0m eta \u001b[36m0:00:00\u001b[0m\n",
            "\u001b[?25hBuilding wheels for collected packages: pyspark\n",
            "  Building wheel for pyspark (setup.py) ... \u001b[?25l\u001b[?25hdone\n",
            "  Created wheel for pyspark: filename=pyspark-3.5.1-py2.py3-none-any.whl size=317488493 sha256=31e742df5f474472184e49b4610ec3c89aa1802989c10107541349d7119fb8f7\n",
            "  Stored in directory: /root/.cache/pip/wheels/80/1d/60/2c256ed38dddce2fdd93be545214a63e02fbd8d74fb0b7f3a6\n",
            "Successfully built pyspark\n",
            "Installing collected packages: pyspark, faker\n",
            "Successfully installed faker-26.2.0 pyspark-3.5.1\n"
          ]
        }
      ]
    },
    {
      "cell_type": "code",
      "source": [
        "from pyspark.sql import SparkSession\n",
        "from pyspark.sql.types import StructType, StructField, IntegerType, StringType, FloatType, BooleanType, DateType\n",
        "from faker import Faker\n",
        "import random\n",
        "from datetime import datetime, timedelta"
      ],
      "metadata": {
        "id": "0YLsShtEuF_W"
      },
      "execution_count": 3,
      "outputs": []
    },
    {
      "cell_type": "code",
      "source": [
        "spark = SparkSession.builder.master(\"local[*]\").appName(\"RetailDataset\").getOrCreate()"
      ],
      "metadata": {
        "id": "M_uuw5EZsusW"
      },
      "execution_count": 4,
      "outputs": []
    },
    {
      "cell_type": "code",
      "source": [
        "fake = Faker()\n",
        "\n",
        "def generate_customers(n):\n",
        "    customers = []\n",
        "    for i in range(n):\n",
        "        customer = {\n",
        "            \"customer_id\": i,\n",
        "            \"first_name\": fake.first_name(),\n",
        "            \"last_name\": fake.last_name(),\n",
        "            \"email\": fake.email(),\n",
        "            \"is_active\": fake.boolean(),\n",
        "            \"is_loyalty_member\": fake.boolean()\n",
        "        }\n",
        "        customers.append(customer)\n",
        "    return customers\n",
        "\n",
        "def generate_products(n):\n",
        "    products = []\n",
        "    for i in range(n):\n",
        "        product = {\n",
        "            \"product_id\": i,\n",
        "            \"product_name\": fake.word(),\n",
        "            \"category\": fake.random_element(elements=(\"Electronics\", \"Clothing\", \"Food\", \"Books\")),\n",
        "            \"price\": round(random.uniform(10, 1000), 2)\n",
        "        }\n",
        "        products.append(product)\n",
        "    return products\n",
        "\n",
        "def generate_sales(n, num_customers, num_products):\n",
        "    sales = []\n",
        "    for i in range(n):\n",
        "        sale = {\n",
        "            \"sale_id\": i,\n",
        "            \"customer_id\": random.randint(0, num_customers - 1),\n",
        "            \"product_id\": random.randint(0, num_products - 1),\n",
        "            \"quantity\": random.randint(1, 10),\n",
        "            \"total_amount\": round(random.uniform(20, 2000), 2),\n",
        "            \"sale_date\": fake.date_between(start_date='-1y', end_date='today')\n",
        "        }\n",
        "        sales.append(sale)\n",
        "    return sales\n"
      ],
      "metadata": {
        "id": "PQkafpaEuNt6"
      },
      "execution_count": 10,
      "outputs": []
    },
    {
      "cell_type": "code",
      "source": [
        "# Generate data\n",
        "num_customers = 500\n",
        "num_products = 50\n",
        "num_sales = 10000\n",
        "\n",
        "customers_data = generate_customers(num_customers)\n",
        "products_data = generate_products(num_products)\n",
        "sales_data = generate_sales(num_sales, num_customers, num_products)\n",
        "\n",
        "# Define schemas\n",
        "customer_schema = StructType([\n",
        "    StructField(\"customer_id\", IntegerType(), True),\n",
        "    StructField(\"first_name\", StringType(), True),\n",
        "    StructField(\"last_name\", StringType(), True),\n",
        "    StructField(\"email\", StringType(), True),\n",
        "    StructField(\"is_active\", BooleanType(), True),\n",
        "    StructField(\"is_loyalty_member\", BooleanType(), True)\n",
        "])\n",
        "\n",
        "product_schema = StructType([\n",
        "    StructField(\"product_id\", IntegerType(), True),\n",
        "    StructField(\"product_name\", StringType(), True),\n",
        "    StructField(\"category\", StringType(), True),\n",
        "    StructField(\"price\", FloatType(), True)\n",
        "])\n",
        "\n",
        "sales_schema = StructType([\n",
        "    StructField(\"sale_id\", IntegerType(), True),\n",
        "    StructField(\"customer_id\", IntegerType(), True),\n",
        "    StructField(\"product_id\", IntegerType(), True),\n",
        "    StructField(\"quantity\", IntegerType(), True),\n",
        "    StructField(\"total_amount\", FloatType(), True),\n",
        "    StructField(\"sale_date\", DateType(), True)\n",
        "])\n",
        "\n",
        "# Create Spark DataFrames\n",
        "customers_df = spark.createDataFrame(customers_data, schema=customer_schema)\n",
        "products_df = spark.createDataFrame(products_data, schema=product_schema)\n",
        "sales_df = spark.createDataFrame(sales_data, schema=sales_schema)\n"
      ],
      "metadata": {
        "id": "owbn3ydrunAB"
      },
      "execution_count": 14,
      "outputs": []
    },
    {
      "cell_type": "code",
      "source": [
        "sales_df.show()"
      ],
      "metadata": {
        "colab": {
          "base_uri": "https://localhost:8080/"
        },
        "id": "K5SfoeEcva1S",
        "outputId": "18a29722-2507-4018-bba9-34528b14e72b"
      },
      "execution_count": 15,
      "outputs": [
        {
          "output_type": "stream",
          "name": "stdout",
          "text": [
            "+-------+-----------+----------+--------+------------+----------+\n",
            "|sale_id|customer_id|product_id|quantity|total_amount| sale_date|\n",
            "+-------+-----------+----------+--------+------------+----------+\n",
            "|      0|        450|        38|       9|     1285.13|2023-09-15|\n",
            "|      1|         17|        45|       4|     1953.44|2024-07-08|\n",
            "|      2|        104|        38|       4|     1185.28|2024-03-20|\n",
            "|      3|        481|         4|       8|      318.61|2024-02-18|\n",
            "|      4|         83|        35|       1|      238.84|2024-03-08|\n",
            "|      5|        478|        46|       6|      527.09|2023-12-25|\n",
            "|      6|        403|        27|       2|      893.08|2024-01-03|\n",
            "|      7|        198|        24|       5|      264.86|2024-05-24|\n",
            "|      8|         62|        22|       5|      565.63|2024-02-06|\n",
            "|      9|         20|        39|       3|      965.33|2023-10-13|\n",
            "|     10|        347|        20|       2|     1464.17|2023-09-23|\n",
            "|     11|        462|        10|      10|       515.0|2023-08-27|\n",
            "|     12|        230|        48|       7|     1352.59|2024-02-25|\n",
            "|     13|         72|        10|       9|     1598.21|2024-01-06|\n",
            "|     14|        296|        46|       3|      324.94|2024-01-09|\n",
            "|     15|        362|         2|       5|      581.13|2023-12-23|\n",
            "|     16|         43|        49|       6|      282.05|2024-04-04|\n",
            "|     17|        265|        44|       3|     1690.81|2023-08-13|\n",
            "|     18|        426|         7|      10|     1662.09|2024-06-10|\n",
            "|     19|        376|        37|       6|      1279.4|2024-02-16|\n",
            "+-------+-----------+----------+--------+------------+----------+\n",
            "only showing top 20 rows\n",
            "\n"
          ]
        }
      ]
    },
    {
      "cell_type": "code",
      "source": [
        "# How would you select the first_name and last_name columns from the customers_df DataFrame using the col() function?\n",
        "from pyspark.sql.functions import col\n",
        "\n",
        "names = customers_df.select(col(\"first_name\"), col('last_name'))\n",
        "names.show()"
      ],
      "metadata": {
        "colab": {
          "base_uri": "https://localhost:8080/"
        },
        "id": "baMCn-88083w",
        "outputId": "27091235-2ec0-4cee-f8ae-55529800461e"
      },
      "execution_count": 16,
      "outputs": [
        {
          "output_type": "stream",
          "name": "stdout",
          "text": [
            "+----------+---------+\n",
            "|first_name|last_name|\n",
            "+----------+---------+\n",
            "|    Martha|  Ramirez|\n",
            "|   Tiffany|   Harris|\n",
            "|   Tristan|   Benson|\n",
            "| Elizabeth|   Herman|\n",
            "|     Lance|     Wade|\n",
            "|   Rebecca|  Jackson|\n",
            "|      Dana|   Nguyen|\n",
            "|      Tara|  Watkins|\n",
            "|   Vanessa|   Garcia|\n",
            "|  Jonathan|    White|\n",
            "|    Thomas|  Collins|\n",
            "|   Spencer| Thompson|\n",
            "|    Daniel|Hernandez|\n",
            "|    Deanna| Johnston|\n",
            "|    Isabel|    Clark|\n",
            "|    Dennis|    Casey|\n",
            "|   Michael|     Wood|\n",
            "|   Michael|  Sanchez|\n",
            "|     Barry|    Perez|\n",
            "|      Paul|     Cole|\n",
            "+----------+---------+\n",
            "only showing top 20 rows\n",
            "\n"
          ]
        }
      ]
    },
    {
      "cell_type": "code",
      "source": [
        "# Using the expr() function, how would you create a new column in the sales_df DataFrame that calculates the total price as quantity * total_amount?\n",
        "\n",
        "sales_df.withColumn('total_price', expr('quantity * total_amount')).show()"
      ],
      "metadata": {
        "colab": {
          "base_uri": "https://localhost:8080/"
        },
        "id": "EpA8GjWD2iMp",
        "outputId": "3b1257f1-9f6e-422a-d525-6c5d3ac72cd6"
      },
      "execution_count": 19,
      "outputs": [
        {
          "output_type": "stream",
          "name": "stdout",
          "text": [
            "+-------+-----------+----------+--------+------------+----------+-----------+\n",
            "|sale_id|customer_id|product_id|quantity|total_amount| sale_date|total_price|\n",
            "+-------+-----------+----------+--------+------------+----------+-----------+\n",
            "|      0|        450|        38|       9|     1285.13|2023-09-15|   11566.17|\n",
            "|      1|         17|        45|       4|     1953.44|2024-07-08|    7813.76|\n",
            "|      2|        104|        38|       4|     1185.28|2024-03-20|    4741.12|\n",
            "|      3|        481|         4|       8|      318.61|2024-02-18|    2548.88|\n",
            "|      4|         83|        35|       1|      238.84|2024-03-08|     238.84|\n",
            "|      5|        478|        46|       6|      527.09|2023-12-25|    3162.54|\n",
            "|      6|        403|        27|       2|      893.08|2024-01-03|    1786.16|\n",
            "|      7|        198|        24|       5|      264.86|2024-05-24|  1324.2999|\n",
            "|      8|         62|        22|       5|      565.63|2024-02-06|    2828.15|\n",
            "|      9|         20|        39|       3|      965.33|2023-10-13|    2895.99|\n",
            "|     10|        347|        20|       2|     1464.17|2023-09-23|    2928.34|\n",
            "|     11|        462|        10|      10|       515.0|2023-08-27|     5150.0|\n",
            "|     12|        230|        48|       7|     1352.59|2024-02-25|    9468.13|\n",
            "|     13|         72|        10|       9|     1598.21|2024-01-06|   14383.89|\n",
            "|     14|        296|        46|       3|      324.94|2024-01-09|     974.82|\n",
            "|     15|        362|         2|       5|      581.13|2023-12-23|    2905.65|\n",
            "|     16|         43|        49|       6|      282.05|2024-04-04|  1692.2999|\n",
            "|     17|        265|        44|       3|     1690.81|2023-08-13|    5072.43|\n",
            "|     18|        426|         7|      10|     1662.09|2024-06-10|    16620.9|\n",
            "|     19|        376|        37|       6|      1279.4|2024-02-16|  7676.4004|\n",
            "+-------+-----------+----------+--------+------------+----------+-----------+\n",
            "only showing top 20 rows\n",
            "\n"
          ]
        }
      ]
    },
    {
      "cell_type": "code",
      "source": [
        "# Using the expr() function, how would you create a new column in the sales_df DataFrame that calculates the total price as quantity * total_amount?\n",
        "\n",
        "from pyspark.sql.functions import expr\n",
        "\n",
        "sales_df = sales_df.withColumn(\"total_price\", col('quantity') * col('total_amount'))\n",
        "sales_df.show()"
      ],
      "metadata": {
        "colab": {
          "base_uri": "https://localhost:8080/"
        },
        "id": "zcMQDSVE0813",
        "outputId": "409e4f5d-e901-4769-86fe-e7d3646fb76e"
      },
      "execution_count": 18,
      "outputs": [
        {
          "output_type": "stream",
          "name": "stdout",
          "text": [
            "+-------+-----------+----------+--------+------------+----------+-----------+\n",
            "|sale_id|customer_id|product_id|quantity|total_amount| sale_date|total_price|\n",
            "+-------+-----------+----------+--------+------------+----------+-----------+\n",
            "|      0|        450|        38|       9|     1285.13|2023-09-15|   11566.17|\n",
            "|      1|         17|        45|       4|     1953.44|2024-07-08|    7813.76|\n",
            "|      2|        104|        38|       4|     1185.28|2024-03-20|    4741.12|\n",
            "|      3|        481|         4|       8|      318.61|2024-02-18|    2548.88|\n",
            "|      4|         83|        35|       1|      238.84|2024-03-08|     238.84|\n",
            "|      5|        478|        46|       6|      527.09|2023-12-25|    3162.54|\n",
            "|      6|        403|        27|       2|      893.08|2024-01-03|    1786.16|\n",
            "|      7|        198|        24|       5|      264.86|2024-05-24|  1324.2999|\n",
            "|      8|         62|        22|       5|      565.63|2024-02-06|    2828.15|\n",
            "|      9|         20|        39|       3|      965.33|2023-10-13|    2895.99|\n",
            "|     10|        347|        20|       2|     1464.17|2023-09-23|    2928.34|\n",
            "|     11|        462|        10|      10|       515.0|2023-08-27|     5150.0|\n",
            "|     12|        230|        48|       7|     1352.59|2024-02-25|    9468.13|\n",
            "|     13|         72|        10|       9|     1598.21|2024-01-06|   14383.89|\n",
            "|     14|        296|        46|       3|      324.94|2024-01-09|     974.82|\n",
            "|     15|        362|         2|       5|      581.13|2023-12-23|    2905.65|\n",
            "|     16|         43|        49|       6|      282.05|2024-04-04|  1692.2999|\n",
            "|     17|        265|        44|       3|     1690.81|2023-08-13|    5072.43|\n",
            "|     18|        426|         7|      10|     1662.09|2024-06-10|    16620.9|\n",
            "|     19|        376|        37|       6|      1279.4|2024-02-16|  7676.4004|\n",
            "+-------+-----------+----------+--------+------------+----------+-----------+\n",
            "only showing top 20 rows\n",
            "\n"
          ]
        }
      ]
    },
    {
      "cell_type": "code",
      "source": [],
      "metadata": {
        "id": "fDSlhRKs08zl"
      },
      "execution_count": null,
      "outputs": []
    },
    {
      "cell_type": "code",
      "source": [],
      "metadata": {
        "id": "MybCnuBM08w_"
      },
      "execution_count": null,
      "outputs": []
    },
    {
      "cell_type": "code",
      "source": [],
      "metadata": {
        "id": "8RTxt_8X08r7"
      },
      "execution_count": null,
      "outputs": []
    }
  ]
}